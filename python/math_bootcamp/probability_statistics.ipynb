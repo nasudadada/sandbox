{
 "cells": [
  {
   "cell_type": "markdown",
   "id": "467391aa-ba7b-4259-830b-5feef11aafc3",
   "metadata": {},
   "source": [
    "## Probability & Statistics"
   ]
  },
  {
   "cell_type": "markdown",
   "id": "159f603d-30bf-4c13-a617-c4d7a94e2eb8",
   "metadata": {},
   "source": [
    "### 平均値・中央値・標準偏差の計算"
   ]
  },
  {
   "cell_type": "markdown",
   "id": "1fc55bb9-a023-4724-b599-fe0a80f0d76b",
   "metadata": {},
   "source": [
    "###　代表値・統計量\n",
    "データ分析において、最初に確認すべき量\n",
    "* 平均値（mean）：　データの合計をデータ数で割ったもの\n",
    "* 中央値(median)：　 データを大きさ順に並べて中央に位置するデータ値\n",
    "* 分散：　対象のデータが平均からどれだけばらつきがあるか。\n",
    "* 標準偏差：　分散の平方根"
   ]
  },
  {
   "cell_type": "code",
   "execution_count": 5,
   "id": "22de7d12-2ac0-4a92-8462-120e09b7d3a1",
   "metadata": {},
   "outputs": [
    {
     "name": "stdout",
     "output_type": "stream",
     "text": [
      "外れ値なしの数値のリスト\n",
      "平均値： 4.0\n",
      "中央値： 4.0\n",
      "標準偏差 0.816496580927726\n",
      "外れ値なしの数値のリスト\n",
      "平均値： 13.6\n",
      "中央値： 4.0\n",
      "標準偏差 28.810414783546594\n"
     ]
    }
   ],
   "source": [
    "import numpy as np\n",
    "\n",
    "# 外れ値なし\n",
    "x = [3, 4, 5, 3, 4, 5, 3, 4, 5]\n",
    "print(\"外れ値なしの数値のリスト\")\n",
    "print(\"平均値：\", np.mean(x))\n",
    "print(\"中央値：\", np.median(x))\n",
    "print(\"標準偏差\", np.std(x))\n",
    "# 外れ値あり\n",
    "x = [3, 4, 5, 3, 4, 5, 3, 4, 5, 100]\n",
    "print(\"外れ値なしの数値のリスト\")\n",
    "print(\"平均値：\", np.mean(x))\n",
    "print(\"中央値：\", np.median(x))\n",
    "print(\"標準偏差\", np.std(x))"
   ]
  },
  {
   "cell_type": "code",
   "execution_count": null,
   "id": "8482a536-2e34-4931-8796-785c30c958c9",
   "metadata": {},
   "outputs": [],
   "source": []
  }
 ],
 "metadata": {
  "kernelspec": {
   "display_name": "Python 3 (ipykernel)",
   "language": "python",
   "name": "python3"
  },
  "language_info": {
   "codemirror_mode": {
    "name": "ipython",
    "version": 3
   },
   "file_extension": ".py",
   "mimetype": "text/x-python",
   "name": "python",
   "nbconvert_exporter": "python",
   "pygments_lexer": "ipython3",
   "version": "3.11.6"
  }
 },
 "nbformat": 4,
 "nbformat_minor": 5
}
