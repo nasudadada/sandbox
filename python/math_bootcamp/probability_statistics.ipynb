{
 "cells": [
  {
   "cell_type": "markdown",
   "id": "467391aa-ba7b-4259-830b-5feef11aafc3",
   "metadata": {},
   "source": [
    "## Probability & Statistics"
   ]
  },
  {
   "cell_type": "markdown",
   "id": "1fc55bb9-a023-4724-b599-fe0a80f0d76b",
   "metadata": {},
   "source": [
    "###　代表値・統計量\n",
    "データ分析において、最初に確認すべき量\n",
    "* 平均値（mean）：　データの合計をデータ数で割ったもの\n",
    "* 中央値(median)：　 データを大きさ順に並べて中央に位置するデータ値\n",
    "* 分散：　対象のデータが平均からどれだけばらつきがあるか。\n",
    "* 標準偏差：　分散の平方根"
   ]
  },
  {
   "cell_type": "markdown",
   "id": "159f603d-30bf-4c13-a617-c4d7a94e2eb8",
   "metadata": {},
   "source": [
    "#### 平均値・中央値・標準偏差の計算"
   ]
  },
  {
   "cell_type": "code",
   "execution_count": 9,
   "id": "22de7d12-2ac0-4a92-8462-120e09b7d3a1",
   "metadata": {},
   "outputs": [
    {
     "name": "stdout",
     "output_type": "stream",
     "text": [
      "外れ値なしの数値のリスト\n",
      "平均値： 4.0\n",
      "中央値： 4.0\n",
      "標準偏差 0.816496580927726\n",
      "外れ値なしの数値のリスト\n",
      "平均値： 13.6\n",
      "中央値： 4.0\n",
      "標準偏差 28.810414783546594\n"
     ]
    }
   ],
   "source": [
    "import numpy as np\n",
    "\n",
    "# 外れ値なし\n",
    "x = [3, 4, 5, 3, 4, 5, 3, 4, 5]\n",
    "print(\"外れ値なしの数値のリスト\")\n",
    "print(\"平均値：\", np.mean(x))\n",
    "print(\"中央値：\", np.median(x))\n",
    "print(\"標準偏差\", np.std(x))\n",
    "# 外れ値あり\n",
    "x = [3, 4, 5, 3, 4, 5, 3, 4, 5, 100]\n",
    "print(\"外れ値なしの数値のリスト\")\n",
    "print(\"平均値：\", np.mean(x))\n",
    "print(\"中央値：\", np.median(x))\n",
    "print(\"標準偏差\", np.std(x))"
   ]
  },
  {
   "cell_type": "markdown",
   "id": "4f421a26-5910-42e5-9feb-c04f4c5e562a",
   "metadata": {},
   "source": [
    "#### 売り上げ金額と気温の散布図"
   ]
  },
  {
   "cell_type": "markdown",
   "id": "df297730-dce4-461b-9100-092cc96d504b",
   "metadata": {},
   "source": [
    "MEMO 大小関係がない値をカテゴリ変数と呼ぶ"
   ]
  },
  {
   "cell_type": "code",
   "execution_count": 11,
   "id": "09fdfc66-f6ca-43ee-b0c5-d9dab9e2fed1",
   "metadata": {},
   "outputs": [
    {
     "data": {
      "text/plain": [
       "<matplotlib.collections.PathCollection at 0x11a4c0350>"
      ]
     },
     "execution_count": 11,
     "metadata": {},
     "output_type": "execute_result"
    },
    {
     "data": {
      "image/png": "[encoded data removed]",
      "text/plain": [
       "<Figure size 640x480 with 1 Axes>"
      ]
     },
     "metadata": {},
     "output_type": "display_data"
    }
   ],
   "source": [
    "import matplotlib.pyplot as plt\n",
    "\n",
    "# 気温と売り上げの一週間分の記録を保持したリスト\n",
    "pair_list = [(15, 120), (14, 80), (17, 150), (16, 150), (16, 110), (15, 100), (13, 70)]\n",
    "\n",
    "# 売り上げ金額を縦軸、気温を横軸とした散布図（scatter plot）\n",
    "plt.scatter([x for x, y in pair_list], [y for x, y in pair_list])"
   ]
  },
  {
   "cell_type": "markdown",
   "id": "bf8a00e9-2771-4daf-9df9-0acde47c432d",
   "metadata": {},
   "source": [
    "Memo 気温と売り上げ金額は比例関係にありそうということがわかる"
   ]
  },
  {
   "cell_type": "markdown",
   "id": "69f77afe-6891-4cf2-a713-e05a4db08817",
   "metadata": {},
   "source": [
    "#### 相関係数\n",
    "$\n",
    "r = \\frac{\\sum_{i=1}^{n} (x_i - \\bar{x})(y_i - \\bar{y})}{\\sqrt{\\sum_{i=1}^{n} (x_i - \\bar{x})^2 \\sum_{i=1}^{n} (y_i - \\bar{y})^2}}\n",
    "$"
   ]
  },
  {
   "cell_type": "code",
   "execution_count": 19,
   "id": "4ad8807b-e2ed-4c77-8c9b-a28f86e4d8d5",
   "metadata": {},
   "outputs": [
    {
     "data": {
      "text/plain": [
       "0.9042001578168488"
      ]
     },
     "execution_count": 19,
     "metadata": {},
     "output_type": "execute_result"
    }
   ],
   "source": [
    "# 相関係数の計算\n",
    "x_i = [x for x, y in pair_list]\n",
    "y_i = [y for x, y in pair_list]\n",
    "x_bar = np.mean(x_i)\n",
    "y_bar = np.mean(y_i)\n",
    "# 分子\n",
    "numerator = np.sum([(x - x_bar) * (y - y_bar) for x, y in pair_list])\n",
    "# 分母\n",
    "denominator1 = np.sqrt(np.sum([(x - x_bar) ** 2 for x in x_i]))\n",
    "\n",
    "denominator2 = np.sqrt(np.sum([(y - y_bar) ** 2 for y in y_i]))\n",
    "\n",
    "r_xy = numerator / (denominator1 * denominator2)\n",
    "r_xy"
   ]
  },
  {
   "cell_type": "markdown",
   "id": "a28ac38c-ffe3-4d17-ac7d-3bedcd42d5b7",
   "metadata": {},
   "source": [
    "### 確率と確率分布"
   ]
  },
  {
   "cell_type": "code",
   "execution_count": null,
   "id": "500ffa08-32e9-4457-bdbf-9c450ed4543a",
   "metadata": {},
   "outputs": [],
   "source": []
  }
 ],
 "metadata": {
  "kernelspec": {
   "display_name": "Python 3 (ipykernel)",
   "language": "python",
   "name": "python3"
  },
  "language_info": {
   "codemirror_mode": {
    "name": "ipython",
    "version": 3
   },
   "file_extension": ".py",
   "mimetype": "text/x-python",
   "name": "python",
   "nbconvert_exporter": "python",
   "pygments_lexer": "ipython3",
   "version": "3.11.6"
  }
 },
 "nbformat": 4,
 "nbformat_minor": 5
}
